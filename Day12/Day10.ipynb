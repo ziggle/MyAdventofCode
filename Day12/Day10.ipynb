{
 "cells": [
  {
   "cell_type": "markdown",
   "id": "cbfe38fc",
   "metadata": {},
   "source": [
    "Day 12 \n",
    "Code alone with Jonathan Paulson\n",
    "https://www.youtube.com/watch?v=DRODVXPgUcI"
   ]
  },
  {
   "cell_type": "code",
   "execution_count": 2,
   "id": "5746ff3f",
   "metadata": {},
   "outputs": [
    {
     "name": "stdout",
     "output_type": "stream",
     "text": [
      "534\n",
      "525\n"
     ]
    }
   ],
   "source": [
    "#!/usr/bin/python3\n",
    "import sys\n",
    "import math\n",
    "from copy import deepcopy\n",
    "from collections import defaultdict, deque\n",
    "infile = \"input.txt\"\n",
    "data = open(infile).read().strip()\n",
    "lines = [x for x in data.split('\\n')]\n",
    "\n",
    "G = []\n",
    "for line in lines:\n",
    "    G.append(line)\n",
    "R = len(G)\n",
    "C = len(G[0])\n",
    "\n",
    "E = [[0 for _ in range(C)] for _ in range(R)]\n",
    "for r in range(R):\n",
    "    for c in range(C):\n",
    "        if G[r][c]=='S':\n",
    "            E[r][c] = 1\n",
    "        elif G[r][c] == 'E':\n",
    "            E[r][c] = 26\n",
    "        else:\n",
    "            E[r][c] = ord(G[r][c])-ord('a')+1\n",
    "\n",
    "def bfs(part):\n",
    "    Q = deque()\n",
    "    for r in range(R):\n",
    "        for c in range(C):\n",
    "            if (part==1 and G[r][c]=='S') or (part==2 and E[r][c] == 1):\n",
    "                Q.append(((r,c), 0))\n",
    "\n",
    "    S = set()\n",
    "    while Q:\n",
    "        (r,c),d = Q.popleft()\n",
    "        if (r,c) in S:\n",
    "            continue\n",
    "        S.add((r,c))\n",
    "        if G[r][c]=='E':\n",
    "            return d\n",
    "        for dr,dc in [(-1,0),(0,1),(1,0),(0,-1)]:\n",
    "            rr = r+dr\n",
    "            cc = c+dc\n",
    "            if 0<=rr<R and 0<=cc<C and E[rr][cc]<=1+E[r][c]:\n",
    "                Q.append(((rr,cc),d+1))\n",
    "print(bfs(1))\n",
    "print(bfs(2))"
   ]
  }
 ],
 "metadata": {
  "kernelspec": {
   "display_name": "Python 3 (ipykernel)",
   "language": "python",
   "name": "python3"
  },
  "language_info": {
   "codemirror_mode": {
    "name": "ipython",
    "version": 3
   },
   "file_extension": ".py",
   "mimetype": "text/x-python",
   "name": "python",
   "nbconvert_exporter": "python",
   "pygments_lexer": "ipython3",
   "version": "3.9.15"
  },
  "toc": {
   "base_numbering": 1,
   "nav_menu": {},
   "number_sections": true,
   "sideBar": true,
   "skip_h1_title": false,
   "title_cell": "Table of Contents",
   "title_sidebar": "Contents",
   "toc_cell": false,
   "toc_position": {},
   "toc_section_display": true,
   "toc_window_display": false
  }
 },
 "nbformat": 4,
 "nbformat_minor": 5
}
