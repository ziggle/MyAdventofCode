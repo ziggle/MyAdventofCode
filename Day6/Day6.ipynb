{
 "cells": [
  {
   "cell_type": "code",
   "execution_count": 1,
   "id": "4f113037",
   "metadata": {},
   "outputs": [
    {
     "data": {
      "text/plain": [
       "'C:\\\\Users\\\\Mark\\\\Dropbox\\\\GitHub\\\\AdventOfCode\\\\Day6'"
      ]
     },
     "execution_count": 1,
     "metadata": {},
     "output_type": "execute_result"
    }
   ],
   "source": [
    "%pwd"
   ]
  },
  {
   "cell_type": "code",
   "execution_count": 36,
   "id": "cb59709e",
   "metadata": {},
   "outputs": [
    {
     "name": "stdout",
     "output_type": "stream",
     "text": [
      "11\n"
     ]
    }
   ],
   "source": [
    "\n",
    "import re\n",
    "s='mjqjpqmgbljsphdztnvjfqwrcgsmlb'\n",
    "s='bvwbjplbgvbhsrlpgdmjqwftvncz'\n",
    "s='nppdvjthqldpwncqszvftbrmjlhg'\n",
    "s='nznrnfrfntjfmvfwmzdfjlvtqnbhcprsg'\n",
    "s='zcfzfwzzqfrljwzlrfnpqdbhtmscgvjw:'\n",
    "\n",
    "for i in range(0,len(s)-3):\n",
    "    z=s[i:i+4]\n",
    "    y = re.match(r'.*(.).*\\1.*',z)\n",
    "    if  y==None:\n",
    "        mtch=i+4\n",
    "        break\n",
    "print(mtch)"
   ]
  },
  {
   "cell_type": "code",
   "execution_count": 40,
   "id": "a52bc796",
   "metadata": {},
   "outputs": [],
   "source": [
    "def fnc(s):\n",
    "    import re\n",
    "    for i in range(0,len(s)-3):\n",
    "        z=s[i:i+4]\n",
    "        y = re.match(r'.*(.).*\\1.*',z)\n",
    "        if  y==None:\n",
    "            return i+4\n",
    "\n",
    "    return None"
   ]
  },
  {
   "cell_type": "code",
   "execution_count": 46,
   "id": "0388df73",
   "metadata": {},
   "outputs": [
    {
     "name": "stdout",
     "output_type": "stream",
     "text": [
      "None\n"
     ]
    }
   ],
   "source": [
    "s=\"aaaaaaaaaaaaaaaaaaaaaaaaaaaaa\"\n",
    "#s='mjqjpqmgbljsphdztnvjfqwrcgsmlb'\n",
    "#s='bvwbjplbgvbhsrlpgdmjqwftvncz'\n",
    "#s='nppdvjthqldpwncqszvftbrmjlhg'\n",
    "#s='nznrnfrfntjfmvfwmzdfjlvtqnbhcprsg'\n",
    "#s='zcfzfwzzqfrljwzlrfnpqdbhtmscgvjw:'\n",
    "print(fnc(s))"
   ]
  },
  {
   "cell_type": "code",
   "execution_count": 52,
   "id": "228b79f7",
   "metadata": {},
   "outputs": [
    {
     "name": "stdout",
     "output_type": "stream",
     "text": [
      "1235\n"
     ]
    }
   ],
   "source": [
    "text_file = open(\"Data.txt\", \"r\")\n",
    "data = text_file.read()\n",
    "text_file.close()\n",
    "print(fnc(data))"
   ]
  },
  {
   "cell_type": "code",
   "execution_count": 53,
   "id": "fa4772df",
   "metadata": {},
   "outputs": [],
   "source": [
    "def fnc1(s):\n",
    "    import re\n",
    "    for i in range(0,len(s)-13):\n",
    "        z=s[i:i+14]\n",
    "        y = re.match(r'.*(.).*\\1.*',z)\n",
    "        if  y==None:\n",
    "            return i+14\n",
    "\n",
    "    return None"
   ]
  },
  {
   "cell_type": "code",
   "execution_count": 55,
   "id": "eae067d3",
   "metadata": {},
   "outputs": [
    {
     "name": "stdout",
     "output_type": "stream",
     "text": [
      "3051\n"
     ]
    }
   ],
   "source": [
    "text_file = open(\"Data.txt\", \"r\")\n",
    "data = text_file.read()\n",
    "text_file.close()\n",
    "print(fnc1(data))"
   ]
  },
  {
   "cell_type": "code",
   "execution_count": null,
   "id": "2d0680fe",
   "metadata": {},
   "outputs": [],
   "source": []
  }
 ],
 "metadata": {
  "kernelspec": {
   "display_name": "Python 3 (ipykernel)",
   "language": "python",
   "name": "python3"
  },
  "language_info": {
   "codemirror_mode": {
    "name": "ipython",
    "version": 3
   },
   "file_extension": ".py",
   "mimetype": "text/x-python",
   "name": "python",
   "nbconvert_exporter": "python",
   "pygments_lexer": "ipython3",
   "version": "3.9.7"
  },
  "toc": {
   "base_numbering": 1,
   "nav_menu": {},
   "number_sections": true,
   "sideBar": true,
   "skip_h1_title": false,
   "title_cell": "Table of Contents",
   "title_sidebar": "Contents",
   "toc_cell": false,
   "toc_position": {},
   "toc_section_display": true,
   "toc_window_display": false
  }
 },
 "nbformat": 4,
 "nbformat_minor": 5
}
