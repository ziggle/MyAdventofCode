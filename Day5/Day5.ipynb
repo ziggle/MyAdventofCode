{
 "cells": [
  {
   "cell_type": "markdown",
   "metadata": {},
   "source": [
    "# Day 5"
   ]
  },
  {
   "cell_type": "markdown",
   "metadata": {},
   "source": [
    "## Part 1"
   ]
  },
  {
   "cell_type": "code",
   "execution_count": 13,
   "metadata": {},
   "outputs": [
    {
     "name": "stdout",
     "output_type": "stream",
     "text": [
      "['C']\n",
      "['M']\n",
      "['P', 'D', 'N', 'Z']\n"
     ]
    }
   ],
   "source": [
    "## Example\n",
    "stack1 = ['Z','N']\n",
    "stack2 = ['M','C','D']\n",
    "stack3 = ['P']\n",
    "\n",
    "#move 1 from 2 to 1\n",
    "stack1.append(stack2.pop())\n",
    "\n",
    "#move 3 from 1 to 2\n",
    "stack3.append(stack1.pop())\n",
    "stack3.append(stack1.pop())\n",
    "stack3.append(stack1.pop())\n",
    "\n",
    "stack1.append(stack2.pop())\n",
    "stack1.append(stack2.pop())\n",
    "\n",
    "stack2.append(stack1.pop())\n",
    "print(stack1)\n",
    "print(stack2)\n",
    "print(stack3)"
   ]
  },
  {
   "cell_type": "code",
   "execution_count": 37,
   "metadata": {},
   "outputs": [
    {
     "name": "stdout",
     "output_type": "stream",
     "text": [
      "['C']\n",
      "['M']\n",
      "['P', 'D', 'N', 'Z']\n"
     ]
    }
   ],
   "source": [
    "stack1 = ['Z','N']\n",
    "stack2 = ['M','C','D']\n",
    "stack3 = ['P']\n",
    "zz = [stack1,stack2,stack3]\n",
    "## Let's practice how to read the instructions\n",
    "with open('Practice.txt', 'r') as _f:\n",
    "    for l in _f:\n",
    "        n = int(l[5])\n",
    "        s = int(l[12])\n",
    "        d = int(l[17])\n",
    "        for i in range(n):\n",
    "            zz[d-1].append(zz[s-1].pop())\n",
    "            \n",
    "print(stack1)\n",
    "print(stack2)\n",
    "print(stack3)\n",
    "            "
   ]
  },
  {
   "cell_type": "code",
   "execution_count": 74,
   "metadata": {},
   "outputs": [
    {
     "name": "stdout",
     "output_type": "stream",
     "text": [
      "['C', 'G', 'F']\n",
      "['Q', 'J']\n",
      "['W', 'F', 'V', 'D', 'D', 'W', 'W', 'S']\n",
      "['R', 'S', 'B', 'S', 'J', 'N', 'R']\n",
      "['Q']\n",
      "['S', 'Q', 'B', 'D', 'C']\n",
      "['J', 'L', 'Q', 'S', 'V', 'J', 'W', 'D', 'J', 'G', 'B', 'C', 'F']\n",
      "['T']\n",
      "['M', 'L', 'G', 'T', 'N', 'Q', 'P', 'Z', 'B', 'T', 'W', 'M', 'V', 'H', 'N', 'N']\n"
     ]
    }
   ],
   "source": [
    "import re\n",
    "stack1 =['B','V','S','N','T','C','H','Q']\n",
    "stack2 =['W','D','B','G']\n",
    "stack3 =['F','W','R','T','S','Q','B']\n",
    "stack4 =['L','G','W','S','Z','J','D','N']\n",
    "stack5 =['M','P','D','V','F']\n",
    "stack6 =['F','W','J']\n",
    "stack7 =['L','N','Q','B','J','V']\n",
    "stack8 =['G','T','R','C','J','Q','S','N']\n",
    "stack9 =['J','S','Q','C','W','D','M']\n",
    "zz = [stack1, stack2,stack3,stack4,stack5,stack6,stack7,stack8,stack9]\n",
    "with open('Test5.txt', 'r') as _f:\n",
    "    for l in _f:\n",
    "        x=re.findall(r'\\d+', l)\n",
    "        n = int(x[0])\n",
    "        s = int(x[1])\n",
    "        d = int(x[2])\n",
    "        for i in range(n):\n",
    "            zz[d-1].append(zz[s-1].pop())     \n",
    "for i in range(len(zz)):\n",
    "    print(zz[i])"
   ]
  },
  {
   "cell_type": "markdown",
   "metadata": {},
   "source": [
    "# Part 2"
   ]
  },
  {
   "cell_type": "code",
   "execution_count": 71,
   "metadata": {},
   "outputs": [
    {
     "name": "stdout",
     "output_type": "stream",
     "text": [
      "['M']\n",
      "['C']\n",
      "['P', 'Z', 'N', 'D']\n"
     ]
    }
   ],
   "source": [
    "stack1 = ['Z','N']\n",
    "stack2 = ['M','C','D']\n",
    "stack3 = ['P']\n",
    "zz = [stack1,stack2,stack3]\n",
    "## Let's practice how to read the instructions\n",
    "with open('Practice.txt', 'r') as _f:\n",
    "    for l in _f:\n",
    "        x=re.findall(r'\\d+', l)\n",
    "        n = int(x[0])\n",
    "        s = int(x[1])\n",
    "        d = int(x[2])\n",
    "        LL=[]\n",
    "        for i in range(n):     \n",
    "            x=zz[s-1].pop()\n",
    "            LL.append(x)\n",
    "        for i in range(n):\n",
    "            zz[d-1].append(LL.pop())\n",
    "            \n",
    "print(stack1)\n",
    "print(stack2)\n",
    "print(stack3)"
   ]
  },
  {
   "cell_type": "code",
   "execution_count": 75,
   "metadata": {},
   "outputs": [
    {
     "name": "stdout",
     "output_type": "stream",
     "text": [
      "['Q', 'Q', 'C']\n",
      "['D', 'J']\n",
      "['N', 'R', 'C', 'L', 'M', 'T', 'B', 'V']\n",
      "['C', 'D', 'D', 'T', 'B', 'Q', 'L']\n",
      "['J']\n",
      "['W', 'G', 'J', 'Z', 'Q']\n",
      "['N', 'S', 'N', 'S', 'B', 'J', 'T', 'V', 'N', 'F', 'V', 'Q', 'P']\n",
      "['H']\n",
      "['D', 'B', 'M', 'W', 'S', 'G', 'G', 'W', 'W', 'F', 'W', 'R', 'S', 'J', 'F', 'S']\n"
     ]
    }
   ],
   "source": [
    "import re\n",
    "stack1 =['B','V','S','N','T','C','H','Q']\n",
    "stack2 =['W','D','B','G']\n",
    "stack3 =['F','W','R','T','S','Q','B']\n",
    "stack4 =['L','G','W','S','Z','J','D','N']\n",
    "stack5 =['M','P','D','V','F']\n",
    "stack6 =['F','W','J']\n",
    "stack7 =['L','N','Q','B','J','V']\n",
    "stack8 =['G','T','R','C','J','Q','S','N']\n",
    "stack9 =['J','S','Q','C','W','D','M']\n",
    "zz = [stack1, stack2,stack3,stack4,stack5,stack6,stack7,stack8,stack9]\n",
    "with open('Test5.txt', 'r') as _f:\n",
    "    for l in _f:\n",
    "        x=re.findall(r'\\d+', l)\n",
    "        n = int(x[0])\n",
    "        s = int(x[1])\n",
    "        d = int(x[2])\n",
    "        LL=[]\n",
    "        for i in range(n):     \n",
    "            x=zz[s-1].pop()\n",
    "            LL.append(x)\n",
    "        for i in range(n):\n",
    "            zz[d-1].append(LL.pop())\n",
    "for i in range(len(zz)):\n",
    "    print(zz[i])"
   ]
  },
  {
   "cell_type": "code",
   "execution_count": null,
   "metadata": {},
   "outputs": [],
   "source": []
  }
 ],
 "metadata": {
  "kernelspec": {
   "display_name": "Python 3",
   "language": "python",
   "name": "python3"
  },
  "language_info": {
   "codemirror_mode": {
    "name": "ipython",
    "version": 3
   },
   "file_extension": ".py",
   "mimetype": "text/x-python",
   "name": "python",
   "nbconvert_exporter": "python",
   "pygments_lexer": "ipython3",
   "version": "3.8.5"
  }
 },
 "nbformat": 4,
 "nbformat_minor": 4
}
