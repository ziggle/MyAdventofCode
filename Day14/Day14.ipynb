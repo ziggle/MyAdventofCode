{
 "cells": [
  {
   "cell_type": "markdown",
   "id": "c1b4e24c",
   "metadata": {},
   "source": [
    "Day 14\n",
    "\n",
    "Code Along https://github.com/jonathanpaulson/AdventOfCode/blob/master/2022/14.py"
   ]
  },
  {
   "cell_type": "code",
   "execution_count": 2,
   "id": "c39ea33a",
   "metadata": {},
   "outputs": [
    {
     "name": "stdout",
     "output_type": "stream",
     "text": [
      "755\n",
      "29805\n"
     ]
    }
   ],
   "source": [
    "#!/usr/bin/python3\n",
    "import sys\n",
    "import math\n",
    "from copy import deepcopy\n",
    "from collections import defaultdict, deque\n",
    "infile = 'input.txt'\n",
    "data = open(infile).read().strip()\n",
    "lines = [x for x in data.split('\\n')]\n",
    "\n",
    "R = set()\n",
    "for line in lines:\n",
    "    prev = None\n",
    "    for point in line.split('->'):\n",
    "        x,y = point.split(',')\n",
    "        x,y = int(x),int(y)\n",
    "        if prev is not None:\n",
    "            dx = x-prev[0]\n",
    "            dy = y-prev[1]\n",
    "            len_ = max(abs(dx),abs(dy))\n",
    "            for i in range(len_+1):\n",
    "                xx = prev[0]+i*(1 if dx>0 else (-1 if dx<0 else 0))\n",
    "                yy = prev[1]+i*(1 if dy>0 else (-1 if dy<0 else 0))\n",
    "                R.add((xx,yy))\n",
    "        prev = (x,y)\n",
    "\n",
    "floor = 2+max(r[1] for r in R)\n",
    "#print(floor)\n",
    "lo_x = min(r[0] for r in R)-2000\n",
    "hi_x = max(r[0] for r in R)+2000\n",
    "for x in range(lo_x, hi_x):\n",
    "    R.add((x,floor))\n",
    "\n",
    "did_p1 = False\n",
    "for t in range(1000000):\n",
    "    rock = (500,0)\n",
    "    while True:\n",
    "        if rock[1]+1>=floor and (not did_p1):\n",
    "            did_p1 = True\n",
    "            print(t)\n",
    "        if (rock[0],rock[1]+1) not in R:\n",
    "            rock = (rock[0],rock[1]+1)\n",
    "        elif (rock[0]-1,rock[1]+1) not in R:\n",
    "            rock = (rock[0]-1, rock[1]+1)\n",
    "        elif (rock[0]+1, rock[1]+1) not in R:\n",
    "            rock = (rock[0]+1, rock[1]+1)\n",
    "        else:\n",
    "            break\n",
    "    if rock == (500,0):\n",
    "        print(t+1)\n",
    "        break\n",
    "    R.add(rock)"
   ]
  },
  {
   "cell_type": "code",
   "execution_count": null,
   "id": "cce93a98",
   "metadata": {},
   "outputs": [],
   "source": []
  }
 ],
 "metadata": {
  "kernelspec": {
   "display_name": "Python 3 (ipykernel)",
   "language": "python",
   "name": "python3"
  },
  "language_info": {
   "codemirror_mode": {
    "name": "ipython",
    "version": 3
   },
   "file_extension": ".py",
   "mimetype": "text/x-python",
   "name": "python",
   "nbconvert_exporter": "python",
   "pygments_lexer": "ipython3",
   "version": "3.9.15"
  },
  "toc": {
   "base_numbering": 1,
   "nav_menu": {},
   "number_sections": true,
   "sideBar": true,
   "skip_h1_title": false,
   "title_cell": "Table of Contents",
   "title_sidebar": "Contents",
   "toc_cell": false,
   "toc_position": {},
   "toc_section_display": true,
   "toc_window_display": false
  }
 },
 "nbformat": 4,
 "nbformat_minor": 5
}
