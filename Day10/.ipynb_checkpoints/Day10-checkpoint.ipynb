{
 "cells": [
  {
   "cell_type": "markdown",
   "id": "e6dace7e",
   "metadata": {},
   "source": [
    "# Code Along \n",
    "\n",
    "Jonathan Paulson\n",
    "https://www.youtube.com/watch?v=NGQ8fIDRV0I&t=173s"
   ]
  },
  {
   "cell_type": "code",
   "execution_count": 18,
   "id": "fa8bd182",
   "metadata": {},
   "outputs": [],
   "source": [
    "import sys\n",
    "from collections import defaultdict\n",
    "data = open(\"data10.txt\").read().strip()\n",
    "lines = [x for x in data.split('\\n')]"
   ]
  },
  {
   "cell_type": "code",
   "execution_count": 19,
   "id": "107e0661",
   "metadata": {},
   "outputs": [
    {
     "name": "stdout",
     "output_type": "stream",
     "text": [
      "11220\n"
     ]
    }
   ],
   "source": [
    "ans = 0\n",
    "x = 1\n",
    "t = 0\n",
    "common = [20, 60, 100, 140, 180, 220]\n",
    "for line in lines:\n",
    "    words = line.split()\n",
    "    if words[0]=='noop':\n",
    "        t += 1\n",
    "        if t in common:\n",
    "            ans += x*t\n",
    "    elif words[0]=='addx':\n",
    "        t += 1\n",
    "        if t in common:\n",
    "            ans += x*t\n",
    "        t +=1\n",
    "        if t in common:\n",
    "            ans += x*t\n",
    "        x += int(words[1])\n",
    "print(ans)\n",
    "            \n",
    "    "
   ]
  },
  {
   "cell_type": "code",
   "execution_count": 13,
   "id": "fa363b08",
   "metadata": {},
   "outputs": [
    {
     "name": "stdout",
     "output_type": "stream",
     "text": [
      "11220\n"
     ]
    }
   ],
   "source": [
    "import sys\n",
    "from collections import defaultdict\n",
    "data = open(\"data10.txt\").read().strip()\n",
    "lines = [x for x in data.split('\\n')]\n",
    "\n",
    "G = [['?' for _ in range(40)] for _ in range(6)]\n",
    "pl = 0\n",
    "x =1\n",
    "t = -1 \n",
    "def handle_tick(t,x):\n",
    "    global pl\n",
    "    global G\n",
    "    t1 = t-1\n",
    "    G[t1//40][t1%40]==('#' if abs(x-(t1%40))<=1 else ' ')\n",
    "    if t in common:\n",
    "        pl +=x*t\n",
    "for line in lines:\n",
    "    words = line.split()\n",
    "    if words[0] =='noop':\n",
    "        t+=1\n",
    "        handle_tick(t,x)\n",
    "    elif words[0]=='addx':\n",
    "        t+=1\n",
    "        handle_tick(t,x)\n",
    "        t+=1\n",
    "        handle_tick(t,x)\n",
    "        x += int(words[1])\n",
    "print(pl)"
   ]
  },
  {
   "cell_type": "code",
   "execution_count": 33,
   "id": "d473bf5e",
   "metadata": {},
   "outputs": [
    {
     "name": "stdout",
     "output_type": "stream",
     "text": [
      "16 20 addx 7\n",
      "16 60 addx 8\n",
      "24 100 noop\n",
      "17 140 addx -7\n",
      "21 180 addx 6\n",
      "6 220 addx 15\n",
      "11160\n",
      "###  #### ###   ##    ## #### #    #  # \n",
      "#  #    # #  # #  #    # #    #    # #  \n",
      "###    #  #  # #  #    # ###  #    ##   \n",
      "#  #  #   ###  ####    # #    #    # #  \n",
      "#  # #    #    #  # #  # #    #    # #  \n",
      "###  #### #    #  #  ##  #### #### #  # \n"
     ]
    }
   ],
   "source": [
    "import sys\n",
    "from collections import defaultdict\n",
    "data = open(\"data10.txt\").read().strip()\n",
    "lines = [x for x in data.split('\\n')]\n",
    "\n",
    "G = [['?' for _ in range(40)] for _ in range(6)]\n",
    "ans=0\n",
    "x =1\n",
    "t = -1\n",
    "\n",
    "for line in lines:\n",
    "    words = line.split()\n",
    "    if words[0] =='noop':\n",
    "        t+=1\n",
    "        G[t//40][t%40]=('#' if abs(x-(t%40))<=1 else ' ')\n",
    "        if t in common:\n",
    "            print(x,t,line)\n",
    "            ans +=x*t\n",
    "    elif words[0]=='addx':\n",
    "        t+=1\n",
    "        G[t//40][t%40]=('#' if abs(x-(t%40))<=1 else ' ')\n",
    "        if t in common:\n",
    "            print(x,t,line)\n",
    "            ans +=x*t\n",
    "        t+=1\n",
    "        G[t//40][t%40]=('#' if abs(x-(t%40))<=1 else ' ')\n",
    "        if t in common:\n",
    "            print(x,t,line)\n",
    "            ans += x*t\n",
    "        x += int(words[1])\n",
    "print(ans)\n",
    "for r in range(6):\n",
    "    print(''.join(G[r]))"
   ]
  },
  {
   "cell_type": "code",
   "execution_count": 34,
   "id": "e90c6296",
   "metadata": {},
   "outputs": [
    {
     "data": {
      "text/plain": [
       "[20, 60, 100, 140, 180, 220]"
      ]
     },
     "execution_count": 34,
     "metadata": {},
     "output_type": "execute_result"
    }
   ],
   "source": [
    "common"
   ]
  },
  {
   "cell_type": "code",
   "execution_count": null,
   "id": "bb4bf8d1",
   "metadata": {},
   "outputs": [],
   "source": []
  }
 ],
 "metadata": {
  "kernelspec": {
   "display_name": "Python 3 (ipykernel)",
   "language": "python",
   "name": "python3"
  },
  "language_info": {
   "codemirror_mode": {
    "name": "ipython",
    "version": 3
   },
   "file_extension": ".py",
   "mimetype": "text/x-python",
   "name": "python",
   "nbconvert_exporter": "python",
   "pygments_lexer": "ipython3",
   "version": "3.9.15"
  },
  "toc": {
   "base_numbering": 1,
   "nav_menu": {},
   "number_sections": true,
   "sideBar": true,
   "skip_h1_title": false,
   "title_cell": "Table of Contents",
   "title_sidebar": "Contents",
   "toc_cell": false,
   "toc_position": {},
   "toc_section_display": true,
   "toc_window_display": false
  }
 },
 "nbformat": 4,
 "nbformat_minor": 5
}
