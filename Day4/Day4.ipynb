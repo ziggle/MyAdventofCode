{
 "cells": [
  {
   "cell_type": "code",
   "execution_count": 1,
   "id": "98cab47f",
   "metadata": {},
   "outputs": [
    {
     "data": {
      "text/plain": [
       "'C:\\\\Users\\\\Mark\\\\Dropbox\\\\GitHub\\\\AdventOfCode\\\\Day4'"
      ]
     },
     "execution_count": 1,
     "metadata": {},
     "output_type": "execute_result"
    }
   ],
   "source": [
    "%pwd"
   ]
  },
  {
   "cell_type": "markdown",
   "id": "9fc27054",
   "metadata": {},
   "source": [
    "# Day 4"
   ]
  },
  {
   "cell_type": "markdown",
   "id": "16c15e9f",
   "metadata": {},
   "source": [
    "## EDA"
   ]
  },
  {
   "cell_type": "code",
   "execution_count": 24,
   "id": "40c7f9ee",
   "metadata": {},
   "outputs": [
    {
     "data": {
      "text/plain": [
       "True"
      ]
     },
     "execution_count": 24,
     "metadata": {},
     "output_type": "execute_result"
    }
   ],
   "source": [
    "# Play around area\n",
    "def fn(x):\n",
    "    j = x.split('-')\n",
    "    y=[]\n",
    "    for k in range(int(j[0]), int(j[1])+1):\n",
    "        y.append(k)\n",
    "    return set(y)\n",
    "\n",
    "i = \"2-8,3-7\"\n",
    "e1, e2 = i.split(\",\")\n",
    "se1=fn(e1);se2=fn(e2)\n",
    "\n",
    "se1.issubset(se2) or se2.issubset(se1)\n"
   ]
  },
  {
   "cell_type": "code",
   "execution_count": 33,
   "id": "38beef02",
   "metadata": {},
   "outputs": [
    {
     "data": {
      "text/plain": [
       "True"
      ]
     },
     "execution_count": 33,
     "metadata": {},
     "output_type": "execute_result"
    }
   ],
   "source": [
    "# Play around area\n",
    "def fn(x):\n",
    "    j = x.split('-')\n",
    "    y=[]\n",
    "    for k in range(int(j[0]), int(j[1])+1):\n",
    "        y.append(k)\n",
    "    return set(y)\n",
    "\n",
    "i = \"6-6,4-6\"\n",
    "e1, e2 = i.split(\",\")\n",
    "se1=fn(e1);se2=fn(e2)\n",
    "\n",
    "bool(se1 & se2)"
   ]
  },
  {
   "cell_type": "markdown",
   "id": "611d35fa",
   "metadata": {},
   "source": [
    "## Part 1"
   ]
  },
  {
   "cell_type": "code",
   "execution_count": 27,
   "id": "a7671ce5",
   "metadata": {},
   "outputs": [
    {
     "name": "stdout",
     "output_type": "stream",
     "text": [
      "651\n"
     ]
    }
   ],
   "source": [
    "cnt = 0\n",
    "with open('data4.txt', 'r') as _f:\n",
    "    for l in _f:\n",
    "        e1, e2 = l.split(\",\")\n",
    "        se1=fn(e1);se2=fn(e2)\n",
    "        if se1.issubset(se2) or se2.issubset(se1):\n",
    "            cnt+=1\n",
    "print(cnt)"
   ]
  },
  {
   "cell_type": "markdown",
   "id": "2c4c63c8",
   "metadata": {},
   "source": [
    "## Part 2"
   ]
  },
  {
   "cell_type": "code",
   "execution_count": 34,
   "id": "3f94cbf8",
   "metadata": {},
   "outputs": [
    {
     "name": "stdout",
     "output_type": "stream",
     "text": [
      "956\n"
     ]
    }
   ],
   "source": [
    "cnt = 0\n",
    "with open('data4.txt', 'r') as _f:\n",
    "    for l in _f:\n",
    "        e1, e2 = l.split(\",\")\n",
    "        se1=fn(e1);se2=fn(e2)\n",
    "        if bool(se1 & se2):\n",
    "            cnt+=1\n",
    "print(cnt)"
   ]
  }
 ],
 "metadata": {
  "kernelspec": {
   "display_name": "Python 3 (ipykernel)",
   "language": "python",
   "name": "python3"
  },
  "language_info": {
   "codemirror_mode": {
    "name": "ipython",
    "version": 3
   },
   "file_extension": ".py",
   "mimetype": "text/x-python",
   "name": "python",
   "nbconvert_exporter": "python",
   "pygments_lexer": "ipython3",
   "version": "3.9.7"
  },
  "toc": {
   "base_numbering": 1,
   "nav_menu": {},
   "number_sections": true,
   "sideBar": true,
   "skip_h1_title": false,
   "title_cell": "Table of Contents",
   "title_sidebar": "Contents",
   "toc_cell": false,
   "toc_position": {},
   "toc_section_display": true,
   "toc_window_display": false
  }
 },
 "nbformat": 4,
 "nbformat_minor": 5
}
