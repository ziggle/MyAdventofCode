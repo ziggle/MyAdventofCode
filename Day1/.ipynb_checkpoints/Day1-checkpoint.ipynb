{
 "cells": [
  {
   "cell_type": "code",
   "execution_count": 4,
   "id": "5575d6d3",
   "metadata": {},
   "outputs": [
    {
     "name": "stdout",
     "output_type": "stream",
     "text": [
      "[WinError 2] The system cannot find the file specified: 'Day1'\n",
      "C:\\Users\\Mark\\Dropbox\\GitHub\\AdventOfCode\\Day1\n"
     ]
    },
    {
     "data": {
      "text/plain": [
       "'C:\\\\Users\\\\Mark\\\\Dropbox\\\\GitHub\\\\AdventOfCode\\\\Day1'"
      ]
     },
     "execution_count": 4,
     "metadata": {},
     "output_type": "execute_result"
    }
   ],
   "source": [
    "%pwd  #look at the current work dir\n",
    "%cd   Day1\n",
    "%pwd"
   ]
  },
  {
   "cell_type": "code",
   "execution_count": 6,
   "id": "e6169fe1",
   "metadata": {},
   "outputs": [
    {
     "name": "stdout",
     "output_type": "stream",
     "text": [
      "Maximum calories is 69912.\n",
      "The elf is #151.\n",
      "The sum of the top 4 elves is 208180.\n"
     ]
    }
   ],
   "source": [
    "import pandas as pd\n",
    "import numpy as np\n",
    "df = pd.read_csv(\"Test.txt\",header=None, skip_blank_lines=False, \\\n",
    "                 names=[\"Calories\"], \\\n",
    "                 converters={'Calories':lambda x: np.nan if x == '' else int(x)})\n",
    "cals={}\n",
    "elf=1\n",
    "for _, row in df.iterrows():\n",
    "    x = row.Calories\n",
    "    if np.isnan(np.min(x)):\n",
    "        elf+=1\n",
    "    else:\n",
    "        cals[elf]=cals.get(elf,0)+x\n",
    "v = list(cals.values())\n",
    "k = list(cals.keys())\n",
    "print(f'Maximum calories is {max(v):0.0f}.')\n",
    "print(f'The elf is #{k[v.index(max(v))]}.')\n",
    "print(f'The sum of the top 4 elves is {sum(sorted(v,reverse=True)[0:3]):0.0f}.')"
   ]
  },
  {
   "cell_type": "code",
   "execution_count": null,
   "id": "2b2ab400",
   "metadata": {},
   "outputs": [],
   "source": []
  }
 ],
 "metadata": {
  "kernelspec": {
   "display_name": "Python 3 (ipykernel)",
   "language": "python",
   "name": "python3"
  },
  "language_info": {
   "codemirror_mode": {
    "name": "ipython",
    "version": 3
   },
   "file_extension": ".py",
   "mimetype": "text/x-python",
   "name": "python",
   "nbconvert_exporter": "python",
   "pygments_lexer": "ipython3",
   "version": "3.9.7"
  },
  "toc": {
   "base_numbering": 1,
   "nav_menu": {},
   "number_sections": true,
   "sideBar": true,
   "skip_h1_title": false,
   "title_cell": "Table of Contents",
   "title_sidebar": "Contents",
   "toc_cell": false,
   "toc_position": {},
   "toc_section_display": true,
   "toc_window_display": false
  }
 },
 "nbformat": 4,
 "nbformat_minor": 5
}
