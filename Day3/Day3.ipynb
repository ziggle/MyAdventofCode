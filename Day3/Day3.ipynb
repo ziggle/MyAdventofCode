{
 "cells": [
  {
   "cell_type": "markdown",
   "id": "9e93c7b8",
   "metadata": {},
   "source": [
    "# Day 3"
   ]
  },
  {
   "cell_type": "markdown",
   "id": "38e37a2a",
   "metadata": {},
   "source": [
    "### EDA"
   ]
  },
  {
   "cell_type": "code",
   "execution_count": 36,
   "id": "45ebb63e",
   "metadata": {
    "scrolled": true
   },
   "outputs": [
    {
     "name": "stdout",
     "output_type": "stream",
     "text": [
      "16\n"
     ]
    }
   ],
   "source": [
    "import string\n",
    "s = 'vJrwpWtwJgWrhcsFMMfFFhFp'\n",
    "\n",
    "fh = s[:int(len(s)/2)]\n",
    "sh = s[int(len(s)/2):]\n",
    "\n",
    "sfh = set(fh)\n",
    "ssh = set(sh)\n",
    "\n",
    "x=list(sfh.intersection(ssh))[0]\n",
    "pri = ord(x)-ord('A')+27 if x.isupper() else ord(x)-ord('a')+1\n",
    "print(pri)\n"
   ]
  },
  {
   "cell_type": "markdown",
   "id": "bbed2efe",
   "metadata": {},
   "source": [
    "## Part 1"
   ]
  },
  {
   "cell_type": "code",
   "execution_count": 39,
   "id": "daf40be1",
   "metadata": {},
   "outputs": [],
   "source": [
    "def pri(s):\n",
    "    sfh = set(s[:int(len(s)/2)])\n",
    "    ssh = set(s[int(len(s)/2):])  \n",
    "    x=list(sfh.intersection(ssh))[0]\n",
    "    return ord(x)-ord('A')+27 if x.isupper() else ord(x)-ord('a')+1"
   ]
  },
  {
   "cell_type": "code",
   "execution_count": 41,
   "id": "1a567715",
   "metadata": {},
   "outputs": [
    {
     "data": {
      "text/plain": [
       "19"
      ]
     },
     "execution_count": 41,
     "metadata": {},
     "output_type": "execute_result"
    }
   ],
   "source": [
    "pri('vJrwpWtwJgWrhcsFMMfFFhFp')\n",
    "pri('CrZsJsPPZsGzwwsLwLmpwMDw')"
   ]
  },
  {
   "cell_type": "code",
   "execution_count": 42,
   "id": "1b11c6ef",
   "metadata": {},
   "outputs": [
    {
     "name": "stdout",
     "output_type": "stream",
     "text": [
      "7766\n"
     ]
    }
   ],
   "source": [
    "score = 0\n",
    "with open('data.txt', 'r') as _f:\n",
    "    for l in _f:\n",
    "        score+=pri(l)\n",
    "print(score)"
   ]
  },
  {
   "cell_type": "markdown",
   "id": "923731cb",
   "metadata": {},
   "source": [
    "## Part 2"
   ]
  },
  {
   "cell_type": "code",
   "execution_count": 77,
   "id": "93a7ff50",
   "metadata": {},
   "outputs": [
    {
     "name": "stdout",
     "output_type": "stream",
     "text": [
      "r\n"
     ]
    }
   ],
   "source": [
    "a='PPWvWQjPhrPQwlMWJJdMDGbJTdCJ'\n",
    "b='rsqsStgNNggBNBZHSrJGdJdCFRRZCFbGbTdJ'\n",
    "c='qgBqqHzzggBpzSnBNqNSSSgcfhrVlVmwPljQVLVwVvQmmzVl'\n",
    "sa = set(a)\n",
    "sb = set(b)\n",
    "sc = set(c)\n",
    "y  = list(sa.intersection(sb).intersection(sc))[0]\n",
    "print(y)"
   ]
  },
  {
   "cell_type": "code",
   "execution_count": 100,
   "id": "36bdbfc9",
   "metadata": {},
   "outputs": [],
   "source": [
    "def pri2(a,b,c):\n",
    "    sa = set(a);sb = set(b); sc = set(c)\n",
    "    x =list(sa.intersection(sb).intersection(sc))[0]\n",
    "    return ord(x)-ord('A')+27 if x.isupper() else ord(x)-ord('a')+1\n"
   ]
  },
  {
   "cell_type": "code",
   "execution_count": 102,
   "id": "0955f502",
   "metadata": {},
   "outputs": [
    {
     "name": "stdout",
     "output_type": "stream",
     "text": [
      "2415\n"
     ]
    }
   ],
   "source": [
    "score = 0\n",
    "from itertools import islice\n",
    "with open('data.txt','r') as f:\n",
    "    while True:\n",
    "            n = list(islice(f, 3))\n",
    "            if not n: \n",
    "                break\n",
    "            a, b, c = n\n",
    "            a = a.strip();b = b.strip();c=c.strip()\n",
    "            score +=pri2(a,b,c)\n",
    "    \n",
    "print(score)      "
   ]
  }
 ],
 "metadata": {
  "kernelspec": {
   "display_name": "Python 3 (ipykernel)",
   "language": "python",
   "name": "python3"
  },
  "language_info": {
   "codemirror_mode": {
    "name": "ipython",
    "version": 3
   },
   "file_extension": ".py",
   "mimetype": "text/x-python",
   "name": "python",
   "nbconvert_exporter": "python",
   "pygments_lexer": "ipython3",
   "version": "3.9.7"
  },
  "toc": {
   "base_numbering": 1,
   "nav_menu": {},
   "number_sections": true,
   "sideBar": true,
   "skip_h1_title": false,
   "title_cell": "Table of Contents",
   "title_sidebar": "Contents",
   "toc_cell": false,
   "toc_position": {},
   "toc_section_display": true,
   "toc_window_display": false
  }
 },
 "nbformat": 4,
 "nbformat_minor": 5
}
