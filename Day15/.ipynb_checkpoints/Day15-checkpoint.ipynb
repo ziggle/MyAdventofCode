{
 "cells": [
  {
   "cell_type": "markdown",
   "id": "6b784023",
   "metadata": {},
   "source": [
    "Code Along\n",
    "\n",
    "https://www.youtube.com/watch?v=w7m48_uCvWI"
   ]
  },
  {
   "cell_type": "code",
   "execution_count": 2,
   "id": "3b0a3428",
   "metadata": {},
   "outputs": [
    {
     "name": "stdout",
     "output_type": "stream",
     "text": [
      "[2528182, 2528182, 2528182, 2528182, 2528182]\n",
      "5564017\n"
     ]
    }
   ],
   "source": [
    "from tqdm import tqdm\n",
    "\n",
    "with open(\"input.txt\") as fin:\n",
    "    lines = fin.read().strip().split(\"\\n\")\n",
    "\n",
    "\n",
    "def dist(a, b):\n",
    "    return abs(a[0] - b[0]) + abs(a[1] - b[1])\n",
    "\n",
    "\n",
    "sensors = []\n",
    "beacons = []\n",
    "for line in lines:\n",
    "    parts = line.split(\" \")\n",
    "\n",
    "    sx = int(parts[2][2:-1])\n",
    "    sy = int(parts[3][2:-1])\n",
    "    bx = int(parts[8][2:-1])\n",
    "    by = int(parts[9][2:])\n",
    "\n",
    "    sensors.append((sx, sy))\n",
    "    beacons.append((bx, by))\n",
    "\n",
    "\n",
    "N = len(sensors)\n",
    "dists = []\n",
    "\n",
    "for i in range(N):\n",
    "    dists.append(dist(sensors[i], beacons[i]))\n",
    "\n",
    "Y = 2000000\n",
    "\n",
    "intervals = []\n",
    "\n",
    "for i, s in enumerate(sensors):\n",
    "    dx = dists[i] - abs(s[1] - Y)\n",
    "\n",
    "    if dx <= 0:\n",
    "        continue\n",
    "\n",
    "    intervals.append((s[0] - dx, s[0] + dx))\n",
    "\n",
    "\n",
    "# INTERVAL OVERLAP ETC.\n",
    "allowed_x = []\n",
    "for bx, by in beacons:\n",
    "    if by == Y:\n",
    "        allowed_x.append(bx)\n",
    "\n",
    "print(allowed_x)\n",
    "\n",
    "min_x = min([i[0] for i in intervals])\n",
    "max_x = max([i[1] for i in intervals])\n",
    "\n",
    "ans = 0\n",
    "for x in range(min_x, max_x + 1):\n",
    "    if x in allowed_x:\n",
    "        continue\n",
    "\n",
    "    for left, right in intervals:\n",
    "        if left <= x <= right:\n",
    "            ans += 1\n",
    "            break\n",
    "\n",
    "\n",
    "print(ans)"
   ]
  },
  {
   "cell_type": "code",
   "execution_count": null,
   "id": "3d167b5f",
   "metadata": {},
   "outputs": [],
   "source": []
  }
 ],
 "metadata": {
  "kernelspec": {
   "display_name": "Python 3 (ipykernel)",
   "language": "python",
   "name": "python3"
  },
  "language_info": {
   "codemirror_mode": {
    "name": "ipython",
    "version": 3
   },
   "file_extension": ".py",
   "mimetype": "text/x-python",
   "name": "python",
   "nbconvert_exporter": "python",
   "pygments_lexer": "ipython3",
   "version": "3.9.15"
  },
  "toc": {
   "base_numbering": 1,
   "nav_menu": {},
   "number_sections": true,
   "sideBar": true,
   "skip_h1_title": false,
   "title_cell": "Table of Contents",
   "title_sidebar": "Contents",
   "toc_cell": false,
   "toc_position": {},
   "toc_section_display": true,
   "toc_window_display": false
  }
 },
 "nbformat": 4,
 "nbformat_minor": 5
}
