{
 "cells": [
  {
   "cell_type": "code",
   "execution_count": 3,
   "id": "bb50e525",
   "metadata": {},
   "outputs": [
    {
     "data": {
      "text/plain": [
       "'3.9.15'"
      ]
     },
     "execution_count": 3,
     "metadata": {},
     "output_type": "execute_result"
    }
   ],
   "source": [
    "%pwd\n",
    "from platform import python_version \n",
    "python_version()"
   ]
  },
  {
   "cell_type": "code",
   "execution_count": 5,
   "id": "9d5d5f88",
   "metadata": {},
   "outputs": [
    {
     "name": "stdout",
     "output_type": "stream",
     "text": [
      "1444896\n",
      "404395\n"
     ]
    }
   ],
   "source": [
    "input = open(\"input.txt\").read().split(\"$\")[1:]\n",
    "\n",
    "size={}\n",
    "current=[]\n",
    "for command in input:\n",
    "    lines=command.strip().split(\"\\n\")\n",
    "    if lines[0].startswith(\"cd\"):\n",
    "        d = lines[0][3:]\n",
    "        if d==\"/\":\n",
    "            current=[]\n",
    "        elif d ==\"..\":\n",
    "            current.pop()\n",
    "        else:\n",
    "            current.append(d)\n",
    "    else:\n",
    "        for line in lines[1:]:\n",
    "            if not line.startswith(\"dir\"):\n",
    "                s = int(line.split(\" \")[0])\n",
    "                for i in range(0,len(current)+1):\n",
    "                    key=tuple(current[0:i])\n",
    "                    size[key]=size.get(key,0)+s\n",
    "print(sum(v for v in size.values() if v<=100_000))\n",
    "available=70_000_000-size[()]\n",
    "needToFree=30_000_000-available\n",
    "print(sorted(v for v in size.values() if v >=needToFree)[0])"
   ]
  },
  {
   "cell_type": "code",
   "execution_count": null,
   "id": "0bb70a2e",
   "metadata": {},
   "outputs": [],
   "source": []
  }
 ],
 "metadata": {
  "kernelspec": {
   "display_name": "Python 3 (ipykernel)",
   "language": "python",
   "name": "python3"
  },
  "language_info": {
   "codemirror_mode": {
    "name": "ipython",
    "version": 3
   },
   "file_extension": ".py",
   "mimetype": "text/x-python",
   "name": "python",
   "nbconvert_exporter": "python",
   "pygments_lexer": "ipython3",
   "version": "3.9.15"
  },
  "toc": {
   "base_numbering": 1,
   "nav_menu": {},
   "number_sections": true,
   "sideBar": true,
   "skip_h1_title": false,
   "title_cell": "Table of Contents",
   "title_sidebar": "Contents",
   "toc_cell": false,
   "toc_position": {},
   "toc_section_display": true,
   "toc_window_display": false
  }
 },
 "nbformat": 4,
 "nbformat_minor": 5
}
