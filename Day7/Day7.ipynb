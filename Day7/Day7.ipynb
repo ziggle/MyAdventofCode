{
 "cells": [
  {
   "cell_type": "code",
   "execution_count": 8,
   "id": "bb50e525",
   "metadata": {},
   "outputs": [
    {
     "data": {
      "text/plain": [
       "'3.9.7'"
      ]
     },
     "execution_count": 8,
     "metadata": {},
     "output_type": "execute_result"
    }
   ],
   "source": [
    "%pwd\n",
    "from platform import python_version \n",
    "python_version()"
   ]
  },
  {
   "cell_type": "code",
   "execution_count": 3,
   "id": "22880fdd",
   "metadata": {
    "scrolled": true
   },
   "outputs": [
    {
     "ename": "NameError",
     "evalue": "name 'print_walk' is not defined",
     "output_type": "error",
     "traceback": [
      "\u001b[1;31m---------------------------------------------------------------------------\u001b[0m",
      "\u001b[1;31mNameError\u001b[0m                                 Traceback (most recent call last)",
      "\u001b[1;32m~\\AppData\\Local\\Temp/ipykernel_26440/3537438885.py\u001b[0m in \u001b[0;36m<module>\u001b[1;34m\u001b[0m\n\u001b[0;32m     35\u001b[0m     \u001b[1;32mreturn\u001b[0m \u001b[0mtotals\u001b[0m\u001b[1;33m[\u001b[0m\u001b[0mpath\u001b[0m\u001b[1;33m]\u001b[0m\u001b[1;33m\u001b[0m\u001b[1;33m\u001b[0m\u001b[0m\n\u001b[0;32m     36\u001b[0m \u001b[1;33m\u001b[0m\u001b[0m\n\u001b[1;32m---> 37\u001b[1;33m \u001b[0mprint_walk\u001b[0m\u001b[1;33m(\u001b[0m\u001b[0mfs\u001b[0m\u001b[1;33m)\u001b[0m\u001b[1;33m\u001b[0m\u001b[1;33m\u001b[0m\u001b[0m\n\u001b[0m\u001b[0;32m     38\u001b[0m \u001b[1;33m\u001b[0m\u001b[0m\n\u001b[0;32m     39\u001b[0m \u001b[0mtotals\u001b[0m\u001b[1;33m=\u001b[0m\u001b[1;33m{\u001b[0m\u001b[1;33m}\u001b[0m\u001b[1;33m\u001b[0m\u001b[1;33m\u001b[0m\u001b[0m\n",
      "\u001b[1;31mNameError\u001b[0m: name 'print_walk' is not defined"
     ]
    }
   ],
   "source": [
    "def run():\n",
    "    with open(0) as f:\n",
    "        input=f.read()\n",
    "        \n",
    "    fs = None\n",
    "    curr = None\n",
    "    is_ls=False\n",
    "    for line in input.split(\"\\n\"):\n",
    "        if line.startswith(\"$ cd\"):\n",
    "            is_ls=False\n",
    "            dir = line.split(\"$ cd\")[1].strip()\n",
    "            if fs is None:\n",
    "                fs = Directory(dir, None)\n",
    "                curr =fs\n",
    "            elif dir == \"..\":\n",
    "                curr = curr.parent\n",
    "            else:\n",
    "                curr = curr.files[dir]\n",
    "        if is_ls:\n",
    "            if line.startswith(\"dir\"):\n",
    "                _, dir = line.split(\" \")\n",
    "                curr.add_dir(dir)\n",
    "            else:\n",
    "                size, filename = line.split(\" \")\n",
    "                curr.add_file(size,filename)\n",
    "        if line.startswith(\"$ ls\"):\n",
    "            is_ls=True\n",
    "def dfs(dir, path, totals):\n",
    "    totals[path]=0\n",
    "    for k, v in dir.files.items():\n",
    "        if isinstance(v, Directory):\n",
    "            totals[path]+=dfs(v, f\"{path}{k}/\", totals)\n",
    "    \n",
    "    totals[path]+=dir.total\n",
    "    return totals[path]\n",
    "\n",
    "print_walk(fs)\n",
    "\n",
    "totals={}\n",
    "dfs(fs,fs.name,totals)\n",
    "max_size=100_000\n",
    "sum=0\n",
    "for _,v in totals.items():\n",
    "    if v<=max_size:\n",
    "        sum+=v\n",
    "print(sum)\n",
    "\n",
    "disk_size=70_000_000\n",
    "update_size=30_000_000\n",
    "\n",
    "free_space=disk_size-totals['/']\n",
    "min_space_needed=update_size-free_space\n",
    "\n",
    "smallest_dir_to_delete=math.inf\n",
    "for _,v in totals.items():\n",
    "    if v>min_space_needed:\n",
    "        smallest_dir_to_delete=min(smallest_dir_to_delete,v)\n",
    "print(smallest_dir_to_delete)"
   ]
  },
  {
   "cell_type": "code",
   "execution_count": 5,
   "id": "9d5d5f88",
   "metadata": {},
   "outputs": [
    {
     "name": "stdout",
     "output_type": "stream",
     "text": [
      "1444896\n",
      "404395\n"
     ]
    }
   ],
   "source": [
    "input = open(\"input.txt\").read().split(\"$\")[1:]\n",
    "\n",
    "size={}\n",
    "current=[]\n",
    "for command in input:\n",
    "    lines=command.strip().split(\"\\n\")\n",
    "    if lines[0].startswith(\"cd\"):\n",
    "        d = lines[0][3:]\n",
    "        if d==\"/\":\n",
    "            current=[]\n",
    "        elif d ==\"..\":\n",
    "            current.pop()\n",
    "        else:\n",
    "            current.append(d)\n",
    "    else:\n",
    "        for line in lines[1:]:\n",
    "            if not line.startswith(\"dir\"):\n",
    "                s = int(line.split(\" \")[0])\n",
    "                for i in range(0,len(current)+1):\n",
    "                    key=tuple(current[0:i])\n",
    "                    size[key]=size.get(key,0)+s\n",
    "print(sum(v for v in size.values() if v<=100_000))\n",
    "available=70_000_000-size[()]\n",
    "needToFree=30_000_000-available\n",
    "print(sorted(v for v in size.values() if v >=needToFree)[0])"
   ]
  },
  {
   "cell_type": "code",
   "execution_count": null,
   "id": "0bb70a2e",
   "metadata": {},
   "outputs": [],
   "source": []
  }
 ],
 "metadata": {
  "kernelspec": {
   "display_name": "Python 3 (ipykernel)",
   "language": "python",
   "name": "python3"
  },
  "language_info": {
   "codemirror_mode": {
    "name": "ipython",
    "version": 3
   },
   "file_extension": ".py",
   "mimetype": "text/x-python",
   "name": "python",
   "nbconvert_exporter": "python",
   "pygments_lexer": "ipython3",
   "version": "3.9.7"
  },
  "toc": {
   "base_numbering": 1,
   "nav_menu": {},
   "number_sections": true,
   "sideBar": true,
   "skip_h1_title": false,
   "title_cell": "Table of Contents",
   "title_sidebar": "Contents",
   "toc_cell": false,
   "toc_position": {},
   "toc_section_display": true,
   "toc_window_display": false
  }
 },
 "nbformat": 4,
 "nbformat_minor": 5
}
