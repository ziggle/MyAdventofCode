{
 "cells": [
  {
   "cell_type": "markdown",
   "id": "08c285bd",
   "metadata": {},
   "source": [
    "Code along \n",
    "https://www.youtube.com/watch?v=dksdTAYB_X8"
   ]
  },
  {
   "cell_type": "code",
   "execution_count": 14,
   "id": "e7d6c63d",
   "metadata": {},
   "outputs": [
    {
     "name": "stdout",
     "output_type": "stream",
     "text": [
      "4643\n"
     ]
    }
   ],
   "source": [
    "with open(\"input.txt\") as fin:\n",
    "    parts = fin.read().strip().split(\"\\n\\n\")\n",
    "\n",
    "\n",
    "def compare(a, b):\n",
    "    if isinstance(a, list) and isinstance(b, int):\n",
    "        b = [b]\n",
    "\n",
    "    if isinstance(a, int) and isinstance(b, list):\n",
    "        a = [a]\n",
    "\n",
    "    if isinstance(a, int) and isinstance(b, int):\n",
    "        if a < b:\n",
    "            return 1\n",
    "        if a == b:\n",
    "            return 0\n",
    "        return -1\n",
    "\n",
    "    if isinstance(a, list) and isinstance(b, list):\n",
    "        i = 0\n",
    "        while i < len(a) and i < len(b):\n",
    "            x = compare(a[i], b[i])\n",
    "            if x == 1:\n",
    "                return 1\n",
    "            if x == -1:\n",
    "                return -1\n",
    "\n",
    "            i += 1\n",
    "\n",
    "        if i == len(a):\n",
    "            if len(a) == len(b):\n",
    "                return 0\n",
    "            return 1  # a ended first\n",
    "\n",
    "        # If i didn't hit the end of a, it hit the end of b first\n",
    "        #   This means that b is shorter, which is bad\n",
    "        return -1\n",
    "\n",
    "\n",
    "ans = 0\n",
    "\n",
    "for i, block in enumerate(parts):\n",
    "    a, b = map(eval, block.split(\"\\n\"))\n",
    "    if compare(a, b) == 1:\n",
    "        ans += i + 1\n",
    "\n",
    "print(ans)"
   ]
  },
  {
   "cell_type": "code",
   "execution_count": 16,
   "id": "042a8b94",
   "metadata": {},
   "outputs": [
    {
     "name": "stdout",
     "output_type": "stream",
     "text": [
      "21614\n"
     ]
    }
   ],
   "source": [
    "from functools import cmp_to_key\n",
    "\n",
    "with open(\"input.txt\") as fin:\n",
    "    parts = fin.read().strip().replace(\"\\n\\n\", \"\\n\").split(\"\\n\")\n",
    "\n",
    "\n",
    "def compare(a, b):\n",
    "    if isinstance(a, list) and isinstance(b, int):\n",
    "        b = [b]\n",
    "\n",
    "    if isinstance(a, int) and isinstance(b, list):\n",
    "        a = [a]\n",
    "\n",
    "    if isinstance(a, int) and isinstance(b, int):\n",
    "        if a < b:\n",
    "            return 1\n",
    "        if a == b:\n",
    "            return 0\n",
    "        return -1\n",
    "\n",
    "    if isinstance(a, list) and isinstance(b, list):\n",
    "        i = 0\n",
    "        while i < len(a) and i < len(b):\n",
    "            x = compare(a[i], b[i])\n",
    "            if x == 1:\n",
    "                return 1\n",
    "            if x == -1:\n",
    "                return -1\n",
    "\n",
    "            i += 1\n",
    "\n",
    "        if i == len(a):\n",
    "            if len(a) == len(b):\n",
    "                return 0\n",
    "            return 1  # a ended first\n",
    "\n",
    "        # If i didn't hit the end of a, it hit the end of b first\n",
    "        #   This means that b is shorter, which is bad\n",
    "        return -1\n",
    "\n",
    "\n",
    "lists = list(map(eval, parts))\n",
    "lists.append([[2]])\n",
    "lists.append([[6]])\n",
    "lists = sorted(lists, key=cmp_to_key(compare), reverse=True)\n",
    "\n",
    "\n",
    "for i, li in enumerate(lists):\n",
    "    if li == [[2]]:\n",
    "        a = i + 1\n",
    "    if li == [[6]]:\n",
    "        b = i + 1\n",
    "\n",
    "print(a * b)"
   ]
  },
  {
   "cell_type": "code",
   "execution_count": null,
   "id": "a2d7f120",
   "metadata": {},
   "outputs": [],
   "source": []
  }
 ],
 "metadata": {
  "kernelspec": {
   "display_name": "Python 3 (ipykernel)",
   "language": "python",
   "name": "python3"
  },
  "language_info": {
   "codemirror_mode": {
    "name": "ipython",
    "version": 3
   },
   "file_extension": ".py",
   "mimetype": "text/x-python",
   "name": "python",
   "nbconvert_exporter": "python",
   "pygments_lexer": "ipython3",
   "version": "3.9.15"
  },
  "toc": {
   "base_numbering": 1,
   "nav_menu": {},
   "number_sections": true,
   "sideBar": true,
   "skip_h1_title": false,
   "title_cell": "Table of Contents",
   "title_sidebar": "Contents",
   "toc_cell": false,
   "toc_position": {},
   "toc_section_display": true,
   "toc_window_display": false
  }
 },
 "nbformat": 4,
 "nbformat_minor": 5
}
