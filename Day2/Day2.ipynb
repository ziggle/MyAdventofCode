{
 "cells": [
  {
   "cell_type": "markdown",
   "id": "1b31d07e",
   "metadata": {},
   "source": [
    "# Day 2 "
   ]
  },
  {
   "cell_type": "code",
   "execution_count": 8,
   "id": "7ac7cef5",
   "metadata": {},
   "outputs": [
    {
     "name": "stdout",
     "output_type": "stream",
     "text": [
      "13009\n"
     ]
    }
   ],
   "source": [
    "import string\n",
    "wins = {1:3, 3:2, 2:1}      #choose rock, beat scissors\n",
    "                            #choose scissors, beat paper\n",
    "                            #choose paper, beat rock\n",
    "losses = {1:2, 2:3, 3:1}    #choose rock, lose to paper\n",
    "                            # choose paper, lose to scissors\n",
    "                            # choose scissors, lost to rock\n",
    "\n",
    "score = 0\n",
    "with open('data.txt', 'r') as _f:\n",
    "    for l in _f:\n",
    "        [elf, me]=l.strip().split(' ')\n",
    "        elf, me  =string.ascii_uppercase.index(elf)+1, string.ascii_uppercase.index(me)-22\n",
    "        score +=me\n",
    "        if elf==me:score+=3\n",
    "        if wins[me]==elf:score+=6\n",
    "print(score)"
   ]
  },
  {
   "cell_type": "code",
   "execution_count": 11,
   "id": "ddd2b6f6",
   "metadata": {},
   "outputs": [
    {
     "name": "stdout",
     "output_type": "stream",
     "text": [
      "10398\n"
     ]
    }
   ],
   "source": [
    "score = 0\n",
    "with open('data.txt', 'r') as _f:\n",
    "        for l in _f:\n",
    "            [elf, me]=l.strip().split(' ')\n",
    "            elf = string.ascii_uppercase.index(elf) + 1\n",
    "            if me=='Y': score+=elf+3\n",
    "            if me=='X': score+=wins[elf]\n",
    "            if me=='Z': score+=losses[elf]+6\n",
    "\n",
    "print(score)"
   ]
  },
  {
   "cell_type": "code",
   "execution_count": null,
   "id": "5cba92c5",
   "metadata": {},
   "outputs": [],
   "source": []
  }
 ],
 "metadata": {
  "kernelspec": {
   "display_name": "Python 3 (ipykernel)",
   "language": "python",
   "name": "python3"
  },
  "language_info": {
   "codemirror_mode": {
    "name": "ipython",
    "version": 3
   },
   "file_extension": ".py",
   "mimetype": "text/x-python",
   "name": "python",
   "nbconvert_exporter": "python",
   "pygments_lexer": "ipython3",
   "version": "3.9.7"
  },
  "toc": {
   "base_numbering": 1,
   "nav_menu": {},
   "number_sections": true,
   "sideBar": true,
   "skip_h1_title": false,
   "title_cell": "Table of Contents",
   "title_sidebar": "Contents",
   "toc_cell": false,
   "toc_position": {},
   "toc_section_display": true,
   "toc_window_display": false
  }
 },
 "nbformat": 4,
 "nbformat_minor": 5
}
